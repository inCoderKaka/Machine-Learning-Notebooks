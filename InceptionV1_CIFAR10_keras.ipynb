{
 "cells": [
  {
   "cell_type": "markdown",
   "metadata": {},
   "source": [
    "# Inception_V1 implementation using CIFAR10 dataset"
   ]
  },
  {
   "cell_type": "code",
   "execution_count": 19,
   "metadata": {},
   "outputs": [],
   "source": [
    "import numpy as np\n",
    "import keras\n",
    "from keras import layers\n",
    "import keras.backend as K\n",
    "from keras.datasets import cifar10\n",
    "from keras.utils import np_utils\n",
    "from keras.callbacks import CSVLogger, EarlyStopping\n",
    "from keras.initializers import glorot_uniform\n",
    "import cv2\n",
    "\n",
    "K.set_image_data_format('channels_last')\n",
    "K.set_learning_phase(1)"
   ]
  },
  {
   "cell_type": "code",
   "execution_count": 20,
   "metadata": {},
   "outputs": [],
   "source": [
    "(X_train, Y_train), (X_test, Y_test) = cifar10.load_data()\n",
    "\n",
    "X_train = X_train.astype('float32')\n",
    "X_test = X_test.astype('float32')\n",
    "\n",
    "X_train = np.array([cv2.resize(img, (64,64)) for img in X_train[:10000,:,:,:]])\n",
    "X_test = np.array([cv2.resize(img, (64,64)) for img in X_test[:1000,:,:,:]])\n",
    "\n",
    "n_classes = 10\n",
    "\n",
    "Y_train = np_utils.to_categorical(Y_train[:10000,:], n_classes)\n",
    "Y_test = np_utils.to_categorical(Y_test[:1000,:], n_classes)\n",
    "\n",
    "mean_image = np.mean(X_train, axis=0)\n",
    "X_train -= mean_image\n",
    "X_test -= mean_image\n",
    "X_train /= 128.\n",
    "X_test /= 128."
   ]
  },
  {
   "cell_type": "code",
   "execution_count": 1,
   "metadata": {},
   "outputs": [],
   "source": [
    "def inception_block(input_x, filters):\n",
    "    f1, f2, f3, f4, f5, f6 = filters\n",
    "    \n",
    "    X = input_x\n",
    "    \n",
    "    conv1_1x1 = layers.Conv2D(f1, kernel_size=(1,1), padding='same', kernel_initializer=glorot_uniform())(input_x)\n",
    "    conv1_1x1 = layers.Activation('relu')(conv1_1x1)\n",
    "    \n",
    "    conv2_1x1 = layers.Conv2D(f2, kernel_size=(1,1), padding='same', kernel_initializer=glorot_uniform())(input_x)\n",
    "    conv2_1x1 = layers.Activation('relu')(conv2_1x1)\n",
    "    conv2_3x3 = layers.Conv2D(f3, kernel_size=(3,3), padding='same', kernel_initializer=glorot_uniform())(conv2_1x1)\n",
    "    conv2_3x3 = layers.Activation('relu')(conv2_3x3)\n",
    "    \n",
    "    conv3_1x1 = layers.Conv2D(f4, kernel_size=(1,1), padding='same', kernel_initializer=glorot_uniform())(input_x)\n",
    "    conv3_1x1 = layers.Activation('relu')(conv3_1x1)\n",
    "    conv3_5x5 = layers.Conv2D(f5, kernel_size=(5,5), padding='same', kernel_initializer=glorot_uniform())(conv3_1x1)\n",
    "    conv3_5x5 = layers.Activation('relu')(conv3_5x5)\n",
    "    \n",
    "    pool = layers.MaxPool2D(pool_size=(3,3), strides=(1,1), padding=\"same\")(input_x)\n",
    "    conv_pool_1x1 = layers.Conv2D(f6, kernel_size=(1,1), padding='same', kernel_initializer=glorot_uniform())(pool)\n",
    "    conv_pool_1x1 = layers.Activation('relu')(conv_pool_1x1)\n",
    "    \n",
    "    output = layers.Concatenate(axis=-1)([conv1_1x1, conv2_3x3, conv3_5x5, conv_pool_1x1])\n",
    "    \n",
    "    return output\n",
    "    "
   ]
  },
  {
   "cell_type": "code",
   "execution_count": 22,
   "metadata": {},
   "outputs": [],
   "source": [
    "def inception_v1(input_shape, n_classes):\n",
    "    \n",
    "    input_x = layers.Input(input_shape)\n",
    "    \n",
    "    X = input_x\n",
    "    X = layers.ZeroPadding2D((3,3))(input_x)\n",
    "    \n",
    "    X = layers.Conv2D(64, kernel_size=(7,7), padding=\"valid\", strides=(2,2), kernel_initializer=glorot_uniform())(X)\n",
    "    X = layers.Activation('relu')(X)\n",
    "    \n",
    "    X = layers.ZeroPadding2D((1,1))(X)\n",
    "    \n",
    "    X = layers.MaxPool2D(pool_size=(3,3), strides=(2,2), padding=\"valid\")(X)\n",
    "    \n",
    "    #Local Response normalization skipped\n",
    "    \n",
    "    X = layers.Conv2D(64, kernel_size=(1,1), padding=\"same\", strides=(1,1), kernel_initializer=glorot_uniform())(X)\n",
    "    X = layers.Activation('relu')(X)\n",
    "    \n",
    "    X = layers.Conv2D(192, kernel_size=(3,3), padding=\"same\", strides=(1,1), kernel_initializer=glorot_uniform())(X)\n",
    "    X = layers.Activation('relu')(X)\n",
    "    \n",
    "    #Local Response normalization skipped\n",
    "    \n",
    "    X = layers.ZeroPadding2D((1,1))(X)\n",
    "    \n",
    "    X = layers.MaxPool2D(pool_size=(3,3), strides=(2,2), padding=\"valid\")(X)\n",
    "    \n",
    "    X = inception_block(X, [64, 96, 128, 16, 32, 32])\n",
    "    \n",
    "    X = inception_block(X, [128, 128, 192, 32, 96, 64])\n",
    "    \n",
    "    X = layers.ZeroPadding2D((1,1))(X)\n",
    "    \n",
    "    X = layers.MaxPool2D(pool_size=(3,3), strides=(2,2), padding=\"valid\")(X)\n",
    "    \n",
    "    X = inception_block(X, [192, 96, 208, 16, 48, 64])\n",
    "    \n",
    "    #pool_size = (5,5) , strides=(3,3) in orignal implementation\n",
    "    aux_output1 = layers.AveragePooling2D(pool_size=(3,3), strides=(1,1), padding=\"valid\")(X)\n",
    "    aux_output1 = layers.Conv2D(128, kernel_size=(1,1), strides=(1,1), padding=\"same\")(aux_output1)\n",
    "    \n",
    "    aux_output1 = layers.Flatten()(aux_output1)\n",
    "    \n",
    "    aux_output1 = layers.Dense(1024, activation='relu')(aux_output1)\n",
    "    aux_output1 = layers.Dropout(0.7)(aux_output1)\n",
    "    \n",
    "    aux_output1 = layers.Dense(n_classes, activation='softmax')(aux_output1)\n",
    "    \n",
    "    X = inception_block(X, [160, 112, 224, 24, 64, 64])\n",
    "    \n",
    "    X = inception_block(X, [128, 128, 256, 24, 65, 64])\n",
    "    \n",
    "    X = inception_block(X, [112, 144, 288, 32, 64, 64])\n",
    "    \n",
    "    #pool_size = (5,5) , strides=(3,3) in orignal implementation\n",
    "    aux_output2 = layers.AveragePooling2D(pool_size=(3,3), strides=(1,1), padding=\"valid\")(X)\n",
    "    aux_output2 = layers.Conv2D(128, kernel_size=(1,1), strides=(1,1), padding=\"same\")(aux_output2)\n",
    "    \n",
    "    aux_output2 = layers.Flatten()(aux_output2)\n",
    "    \n",
    "    aux_output2 = layers.Dense(1024, activation='relu')(aux_output2)\n",
    "    aux_output2 = layers.Dropout(0.7)(aux_output2)\n",
    "    \n",
    "    aux_output2 = layers.Dense(n_classes, activation='softmax')(aux_output2)\n",
    "    \n",
    "    X = inception_block(X, [256, 160, 320, 32, 128, 128])\n",
    "    \n",
    "    X = layers.ZeroPadding2D((1,1))(X)\n",
    "    \n",
    "    X = layers.MaxPool2D(pool_size=(3,3), strides=(2,2), padding=\"valid\")(X)\n",
    "    \n",
    "    X = inception_block(X, [256, 160, 320, 32, 128, 128])\n",
    "    \n",
    "    X = inception_block(X, [384, 192, 384, 48, 128, 128])\n",
    "    \n",
    "    X = layers.AveragePooling2D(pool_size=(2,2), strides=(1,1), padding=\"valid\")(X)\n",
    "    \n",
    "    X = layers.Flatten()(X)\n",
    "    \n",
    "    X = layers.Dropout(0.4)(X)\n",
    "    \n",
    "    X = layers.Dense(n_classes, activation='softmax')(X)\n",
    "    \n",
    "    model = keras.Model(inputs=input_x, outputs=X)\n",
    "    \n",
    "    return model\n",
    "    \n",
    "    \n",
    "    "
   ]
  },
  {
   "cell_type": "code",
   "execution_count": 23,
   "metadata": {},
   "outputs": [],
   "source": [
    "inception_v1_model = inception_v1(input_shape = (64, 64, 3), n_classes=10)"
   ]
  },
  {
   "cell_type": "code",
   "execution_count": 24,
   "metadata": {},
   "outputs": [],
   "source": [
    "inception_v1_model.compile(optimizer='adam', loss='categorical_crossentropy', metrics=['accuracy'])"
   ]
  },
  {
   "cell_type": "code",
   "execution_count": 14,
   "metadata": {},
   "outputs": [
    {
     "name": "stdout",
     "output_type": "stream",
     "text": [
      "Epoch 1/10\n",
      "10000/10000 [==============================] - 137s 14ms/step - loss: 1.5180 - acc: 0.4137\n",
      "Epoch 2/10\n",
      "10000/10000 [==============================] - 136s 14ms/step - loss: 1.4184 - acc: 0.4557\n",
      "Epoch 3/10\n",
      "10000/10000 [==============================] - 136s 14ms/step - loss: 1.3236 - acc: 0.5076\n",
      "Epoch 4/10\n",
      "10000/10000 [==============================] - 136s 14ms/step - loss: 1.2134 - acc: 0.5545\n",
      "Epoch 5/10\n",
      "10000/10000 [==============================] - 136s 14ms/step - loss: 1.1088 - acc: 0.5939\n",
      "Epoch 6/10\n",
      "10000/10000 [==============================] - 136s 14ms/step - loss: 1.0411 - acc: 0.6250\n",
      "Epoch 7/10\n",
      "10000/10000 [==============================] - 136s 14ms/step - loss: 0.9564 - acc: 0.6546\n",
      "Epoch 8/10\n",
      "10000/10000 [==============================] - 136s 14ms/step - loss: 0.8650 - acc: 0.6877\n",
      "Epoch 9/10\n",
      "10000/10000 [==============================] - 136s 14ms/step - loss: 0.7785 - acc: 0.7185\n",
      "Epoch 10/10\n",
      "10000/10000 [==============================] - 136s 14ms/step - loss: 0.7135 - acc: 0.7465\n"
     ]
    },
    {
     "data": {
      "text/plain": [
       "<keras.callbacks.History at 0x7f55044b2e10>"
      ]
     },
     "execution_count": 14,
     "metadata": {},
     "output_type": "execute_result"
    }
   ],
   "source": [
    "inception_v1_model.fit(X_train, Y_train, epochs = 10, batch_size = 32)"
   ]
  },
  {
   "cell_type": "code",
   "execution_count": 17,
   "metadata": {},
   "outputs": [
    {
     "name": "stdout",
     "output_type": "stream",
     "text": [
      "1000/1000 [==============================] - 4s 4ms/step\n"
     ]
    }
   ],
   "source": [
    "score, accuracy = inception_v1_model.evaluate(X_test, Y_test)"
   ]
  },
  {
   "cell_type": "code",
   "execution_count": 18,
   "metadata": {},
   "outputs": [
    {
     "name": "stdout",
     "output_type": "stream",
     "text": [
      "0.611\n"
     ]
    }
   ],
   "source": [
    "print accuracy"
   ]
  },
  {
   "cell_type": "code",
   "execution_count": null,
   "metadata": {},
   "outputs": [],
   "source": []
  }
 ],
 "metadata": {
  "kernelspec": {
   "display_name": "Python 2",
   "language": "python",
   "name": "python2"
  },
  "language_info": {
   "codemirror_mode": {
    "name": "ipython",
    "version": 2
   },
   "file_extension": ".py",
   "mimetype": "text/x-python",
   "name": "python",
   "nbconvert_exporter": "python",
   "pygments_lexer": "ipython2",
   "version": "2.7.12"
  }
 },
 "nbformat": 4,
 "nbformat_minor": 2
}
