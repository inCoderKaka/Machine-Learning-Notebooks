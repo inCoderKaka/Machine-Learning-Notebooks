{
 "cells": [
  {
   "cell_type": "markdown",
   "metadata": {},
   "source": [
    "# VGG16 implementation using keras on DogsVsCats datset"
   ]
  },
  {
   "cell_type": "code",
   "execution_count": 1,
   "metadata": {},
   "outputs": [
    {
     "name": "stderr",
     "output_type": "stream",
     "text": [
      "Using TensorFlow backend.\n"
     ]
    }
   ],
   "source": [
    "import numpy as np\n",
    "from keras import layers\n",
    "from keras.models import Model\n",
    "import matplotlib.pyplot as plt\n",
    "import cv2\n",
    "import pickle as pk\n",
    "import os\n",
    "from tqdm import tqdm\n",
    "from random import shuffle\n",
    "\n",
    "\n",
    "%matplotlib inline"
   ]
  },
  {
   "cell_type": "markdown",
   "metadata": {},
   "source": [
    "Download dataset from [http://files.fast.ai/data/dogscats.zip](http://files.fast.ai/data/dogscats.zip)"
   ]
  },
  {
   "cell_type": "code",
   "execution_count": 2,
   "metadata": {
    "collapsed": true
   },
   "outputs": [],
   "source": [
    "train_path = \"./dogscats/train/\"\n",
    "validation_path = \"./dogscats/valid/\""
   ]
  },
  {
   "cell_type": "code",
   "execution_count": 3,
   "metadata": {},
   "outputs": [
    {
     "name": "stderr",
     "output_type": "stream",
     "text": [
      "100%|██████████| 11500/11500 [00:20<00:00, 553.74it/s]\n",
      "100%|██████████| 11500/11500 [00:21<00:00, 543.14it/s]\n",
      "100%|██████████| 1000/1000 [00:01<00:00, 563.79it/s]\n",
      "100%|██████████| 1000/1000 [00:01<00:00, 543.43it/s]\n"
     ]
    },
    {
     "name": "stdout",
     "output_type": "stream",
     "text": [
      "(1150, 224, 224, 3)\n",
      "(1150, 2)\n",
      "(100, 224, 224, 3)\n",
      "(100, 2)\n"
     ]
    }
   ],
   "source": [
    "training_data = []\n",
    "validation_data = []\n",
    "\n",
    "def insert_data(data_type, dir_path, category):\n",
    "    for img in tqdm(os.listdir(dir_path+category)):\n",
    "        path = os.path.join(dir_path+category,img)\n",
    "        image = cv2.imread(path)\n",
    "        image = cv2.resize(image, (224, 224))\n",
    "        label = [1,0] if category==\"cats\" else [0,1]\n",
    "        data_type.append([np.array(image), np.array(label)])\n",
    "        \n",
    "\n",
    "insert_data(training_data, train_path, \"cats\")\n",
    "insert_data(training_data, train_path, \"dogs\")\n",
    "insert_data(validation_data, validation_path, \"cats\")\n",
    "insert_data(validation_data, validation_path, \"dogs\")\n",
    "\n",
    "shuffle(training_data)\n",
    "shuffle(validation_data)\n",
    "\n",
    "\n",
    "train_x = []\n",
    "train_y = []\n",
    "val_x = []\n",
    "val_y = []\n",
    "\n",
    "for i in range(len(training_data)/20):\n",
    "    train_x.append(training_data[i][0])\n",
    "    train_y.append(training_data[i][1])\n",
    "    \n",
    "\n",
    "for i in range(len(validation_data)/20):\n",
    "    val_x.append(validation_data[i][0])\n",
    "    val_y.append(validation_data[i][1])\n",
    "    \n",
    "train_x = np.array(train_x)\n",
    "train_y = np.array(train_y)\n",
    "val_x = np.array(val_x)\n",
    "val_y = np.array(val_y)\n",
    "\n",
    "n_train = train_x.shape[0]\n",
    "n_val = val_x.shape[0]\n",
    "\n",
    "print train_x.shape \n",
    "print train_y.shape \n",
    "print val_x.shape\n",
    "print val_y.shape"
   ]
  },
  {
   "cell_type": "code",
   "execution_count": 4,
   "metadata": {
    "collapsed": true
   },
   "outputs": [],
   "source": [
    "def VGG16(input_shape):\n",
    "    \n",
    "    X_input = layers.Input(input_shape)\n",
    "    \n",
    "    X = layers.Conv2D(64, (3,3), strides=(1,1), padding = \"same\", name=\"conv1\")(X_input)\n",
    "    X = layers.Activation('relu')(X)\n",
    "    \n",
    "    X = layers.Conv2D(64, (3,3), strides=(1,1), padding = \"same\", name=\"conv2\")(X)\n",
    "    X = layers.Activation('relu')(X)\n",
    "    \n",
    "    X = layers.MaxPooling2D(pool_size=(2,2), strides=(2,2), padding=\"valid\")(X)\n",
    "    \n",
    "    \n",
    "    X = layers.Conv2D(128, (3,3), strides=(1,1), padding = \"same\", name=\"conv3\")(X)\n",
    "    X = layers.Activation('relu')(X)\n",
    "    \n",
    "    X = layers.Conv2D(128, (3,3), strides=(1,1), padding = \"same\", name=\"conv4\")(X)\n",
    "    X = layers.Activation('relu')(X)\n",
    "    \n",
    "    X = layers.MaxPooling2D(pool_size=(2,2), strides=(2,2), padding=\"valid\")(X)\n",
    "    \n",
    "    \n",
    "    X = layers.Conv2D(256, (3,3), strides=(1,1), padding = \"same\", name=\"conv5\")(X)\n",
    "    X = layers.Activation('relu')(X)\n",
    "    \n",
    "    X = layers.Conv2D(256, (3,3), strides=(1,1), padding = \"same\", name=\"conv6\")(X)\n",
    "    X = layers.Activation('relu')(X)\n",
    "    \n",
    "    X = layers.Conv2D(256, (3,3), strides=(1,1), padding = \"same\", name=\"conv7\")(X)\n",
    "    X = layers.Activation('relu')(X)\n",
    "    \n",
    "    X = layers.MaxPooling2D(pool_size=(2,2), strides=(2,2), padding=\"valid\")(X)\n",
    "    \n",
    "    \n",
    "    X = layers.Conv2D(512, (3,3), strides=(1,1), padding = \"same\", name=\"conv8\")(X)\n",
    "    X = layers.Activation('relu')(X)\n",
    "    \n",
    "    X = layers.Conv2D(512, (3,3), strides=(1,1), padding = \"same\", name=\"conv9\")(X)\n",
    "    X = layers.Activation('relu')(X)\n",
    "    \n",
    "    X = layers.Conv2D(512, (3,3), strides=(1,1), padding = \"same\", name=\"conv10\")(X)\n",
    "    X = layers.Activation('relu')(X)\n",
    "    \n",
    "    X = layers.MaxPooling2D(pool_size=(2,2), strides=(2,2), padding=\"valid\")(X)\n",
    "    \n",
    "    \n",
    "    X = layers.Conv2D(512, (3,3), strides=(1,1), padding = \"same\", name=\"conv11\")(X)\n",
    "    X = layers.Activation('relu')(X)\n",
    "    \n",
    "    X = layers.Conv2D(512, (3,3), strides=(1,1), padding = \"same\", name=\"conv12\")(X)\n",
    "    X = layers.Activation('relu')(X)\n",
    "    \n",
    "    X = layers.Conv2D(512, (3,3), strides=(1,1), padding = \"same\", name=\"conv13\")(X)\n",
    "    X = layers.Activation('relu')(X)\n",
    "    \n",
    "    X = layers.MaxPooling2D(pool_size=(2,2), strides=(2,2), padding=\"valid\")(X)\n",
    "    \n",
    "    X = layers.Flatten()(X)\n",
    "    \n",
    "    X = layers.Dense(4096, activation='relu', name=\"fc14\")(X)\n",
    "    \n",
    "    X = layers.Dense(4096, activation='relu', name=\"fc15\")(X)\n",
    "    \n",
    "    X = layers.Dense(2, activation='softmax', name=\"fc16\")(X)\n",
    "    \n",
    "    model = Model(inputs = X_input, outputs = X, name=\"VGG16\")\n",
    "    \n",
    "    return model\n"
   ]
  },
  {
   "cell_type": "code",
   "execution_count": 5,
   "metadata": {
    "collapsed": true
   },
   "outputs": [],
   "source": [
    "vgg16_model = VGG16((224,224,3))"
   ]
  },
  {
   "cell_type": "code",
   "execution_count": 6,
   "metadata": {
    "collapsed": true
   },
   "outputs": [],
   "source": [
    "vgg16_model.compile(optimizer = \"adam\", loss=\"mean_squared_error\", metrics=[\"accuracy\"])"
   ]
  },
  {
   "cell_type": "code",
   "execution_count": 7,
   "metadata": {},
   "outputs": [
    {
     "name": "stdout",
     "output_type": "stream",
     "text": [
      "Epoch 1/1\n",
      "1150/1150 [==============================] - 2922s 3s/step - loss: 0.4652 - acc: 0.5304\n"
     ]
    },
    {
     "data": {
      "text/plain": [
       "<keras.callbacks.History at 0x7f4dd41fa510>"
      ]
     },
     "execution_count": 7,
     "metadata": {},
     "output_type": "execute_result"
    }
   ],
   "source": [
    "vgg16_model.fit(x = train_x, y = train_y, epochs = 1, batch_size=32)"
   ]
  },
  {
   "cell_type": "code",
   "execution_count": null,
   "metadata": {
    "collapsed": true
   },
   "outputs": [],
   "source": []
  }
 ],
 "metadata": {
  "kernelspec": {
   "display_name": "Python 2",
   "language": "python",
   "name": "python2"
  },
  "language_info": {
   "codemirror_mode": {
    "name": "ipython",
    "version": 2
   },
   "file_extension": ".py",
   "mimetype": "text/x-python",
   "name": "python",
   "nbconvert_exporter": "python",
   "pygments_lexer": "ipython2",
   "version": "2.7.12"
  }
 },
 "nbformat": 4,
 "nbformat_minor": 2
}
