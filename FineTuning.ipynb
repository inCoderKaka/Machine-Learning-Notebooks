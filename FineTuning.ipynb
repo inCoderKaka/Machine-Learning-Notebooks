{
 "cells": [
  {
   "cell_type": "markdown",
   "metadata": {},
   "source": [
    "# Fine-Tuning InceptionV3 on StateFarm distracted driver dataset"
   ]
  },
  {
   "cell_type": "code",
   "execution_count": 14,
   "metadata": {},
   "outputs": [],
   "source": [
    "import numpy as np\n",
    "from keras.layers import *\n",
    "from keras.models import Model\n",
    "from keras.optimizers import *\n",
    "from keras.applications import InceptionV3\n",
    "from keras.preprocessing.image import ImageDataGenerator\n",
    "import keras.backend as K\n",
    "from keras.utils import np_utils\n",
    "from keras.initializers import glorot_uniform\n",
    "import cv2\n",
    "\n",
    "K.set_image_data_format('channels_last')\n",
    "K.set_learning_phase(1)"
   ]
  },
  {
   "cell_type": "markdown",
   "metadata": {},
   "source": [
    "Dataset taken from [https://www.kaggle.com/c/state-farm-distracted-driver-detection](https://www.kaggle.com/c/state-farm-distracted-driver-detection)"
   ]
  },
  {
   "cell_type": "code",
   "execution_count": 15,
   "metadata": {},
   "outputs": [
    {
     "name": "stdout",
     "output_type": "stream",
     "text": [
      "Found 22424 images belonging to 10 classes.\n"
     ]
    }
   ],
   "source": [
    "train_datagen = ImageDataGenerator(\n",
    "        rescale=1./255,\n",
    "        shear_range=0.2,\n",
    "        zoom_range=0.2,\n",
    "        horizontal_flip=False)\n",
    "\n",
    "train_generator = train_datagen.flow_from_directory('train', target_size = (150, 150), batch_size=32, class_mode='categorical')"
   ]
  },
  {
   "cell_type": "code",
   "execution_count": 16,
   "metadata": {},
   "outputs": [
    {
     "data": {
      "text/plain": [
       "{'c0': 0,\n",
       " 'c1': 1,\n",
       " 'c2': 2,\n",
       " 'c3': 3,\n",
       " 'c4': 4,\n",
       " 'c5': 5,\n",
       " 'c6': 6,\n",
       " 'c7': 7,\n",
       " 'c8': 8,\n",
       " 'c9': 9}"
      ]
     },
     "execution_count": 16,
     "metadata": {},
     "output_type": "execute_result"
    }
   ],
   "source": [
    "train_generator.class_indices"
   ]
  },
  {
   "cell_type": "code",
   "execution_count": 17,
   "metadata": {
    "collapsed": true
   },
   "outputs": [],
   "source": [
    "base_model = InceptionV3(input_shape=(150, 150, 3), include_top=False, weights='imagenet')"
   ]
  },
  {
   "cell_type": "code",
   "execution_count": 18,
   "metadata": {
    "collapsed": true
   },
   "outputs": [],
   "source": [
    "x = base_model.output\n",
    "x = GlobalAveragePooling2D()(x)\n",
    "x = Dense(10, activation='softmax')(x)\n",
    "\n",
    "model = Model(base_model.input, x)\n"
   ]
  },
  {
   "cell_type": "code",
   "execution_count": 19,
   "metadata": {
    "collapsed": true
   },
   "outputs": [],
   "source": [
    "for layer in base_model.layers:\n",
    "    layer.trainable = False"
   ]
  },
  {
   "cell_type": "code",
   "execution_count": 20,
   "metadata": {
    "collapsed": true
   },
   "outputs": [],
   "source": [
    "model.compile('adam', 'categorical_crossentropy', ['accuracy'])"
   ]
  },
  {
   "cell_type": "code",
   "execution_count": 21,
   "metadata": {},
   "outputs": [
    {
     "name": "stdout",
     "output_type": "stream",
     "text": [
      "Epoch 1/1\n",
      "701/700 [==============================] - 2040s 3s/step - loss: 1.8074 - acc: 0.3912\n"
     ]
    },
    {
     "data": {
      "text/plain": [
       "<keras.callbacks.History at 0x7fcaf9df0f50>"
      ]
     },
     "execution_count": 21,
     "metadata": {},
     "output_type": "execute_result"
    }
   ],
   "source": [
    "model.fit_generator(train_generator, steps_per_epoch=22424/32, epochs =1, shuffle=True)"
   ]
  },
  {
   "cell_type": "code",
   "execution_count": 22,
   "metadata": {},
   "outputs": [
    {
     "name": "stdout",
     "output_type": "stream",
     "text": [
      "(0, 'input_2')\n",
      "(1, 'conv2d_95')\n",
      "(2, 'batch_normalization_95')\n",
      "(3, 'activation_95')\n",
      "(4, 'conv2d_96')\n",
      "(5, 'batch_normalization_96')\n",
      "(6, 'activation_96')\n",
      "(7, 'conv2d_97')\n",
      "(8, 'batch_normalization_97')\n",
      "(9, 'activation_97')\n",
      "(10, 'max_pooling2d_5')\n",
      "(11, 'conv2d_98')\n",
      "(12, 'batch_normalization_98')\n",
      "(13, 'activation_98')\n",
      "(14, 'conv2d_99')\n",
      "(15, 'batch_normalization_99')\n",
      "(16, 'activation_99')\n",
      "(17, 'max_pooling2d_6')\n",
      "(18, 'conv2d_103')\n",
      "(19, 'batch_normalization_103')\n",
      "(20, 'activation_103')\n",
      "(21, 'conv2d_101')\n",
      "(22, 'conv2d_104')\n",
      "(23, 'batch_normalization_101')\n",
      "(24, 'batch_normalization_104')\n",
      "(25, 'activation_101')\n",
      "(26, 'activation_104')\n",
      "(27, 'average_pooling2d_10')\n",
      "(28, 'conv2d_100')\n",
      "(29, 'conv2d_102')\n",
      "(30, 'conv2d_105')\n",
      "(31, 'conv2d_106')\n",
      "(32, 'batch_normalization_100')\n",
      "(33, 'batch_normalization_102')\n",
      "(34, 'batch_normalization_105')\n",
      "(35, 'batch_normalization_106')\n",
      "(36, 'activation_100')\n",
      "(37, 'activation_102')\n",
      "(38, 'activation_105')\n",
      "(39, 'activation_106')\n",
      "(40, 'mixed0')\n",
      "(41, 'conv2d_110')\n",
      "(42, 'batch_normalization_110')\n",
      "(43, 'activation_110')\n",
      "(44, 'conv2d_108')\n",
      "(45, 'conv2d_111')\n",
      "(46, 'batch_normalization_108')\n",
      "(47, 'batch_normalization_111')\n",
      "(48, 'activation_108')\n",
      "(49, 'activation_111')\n",
      "(50, 'average_pooling2d_11')\n",
      "(51, 'conv2d_107')\n",
      "(52, 'conv2d_109')\n",
      "(53, 'conv2d_112')\n",
      "(54, 'conv2d_113')\n",
      "(55, 'batch_normalization_107')\n",
      "(56, 'batch_normalization_109')\n",
      "(57, 'batch_normalization_112')\n",
      "(58, 'batch_normalization_113')\n",
      "(59, 'activation_107')\n",
      "(60, 'activation_109')\n",
      "(61, 'activation_112')\n",
      "(62, 'activation_113')\n",
      "(63, 'mixed1')\n",
      "(64, 'conv2d_117')\n",
      "(65, 'batch_normalization_117')\n",
      "(66, 'activation_117')\n",
      "(67, 'conv2d_115')\n",
      "(68, 'conv2d_118')\n",
      "(69, 'batch_normalization_115')\n",
      "(70, 'batch_normalization_118')\n",
      "(71, 'activation_115')\n",
      "(72, 'activation_118')\n",
      "(73, 'average_pooling2d_12')\n",
      "(74, 'conv2d_114')\n",
      "(75, 'conv2d_116')\n",
      "(76, 'conv2d_119')\n",
      "(77, 'conv2d_120')\n",
      "(78, 'batch_normalization_114')\n",
      "(79, 'batch_normalization_116')\n",
      "(80, 'batch_normalization_119')\n",
      "(81, 'batch_normalization_120')\n",
      "(82, 'activation_114')\n",
      "(83, 'activation_116')\n",
      "(84, 'activation_119')\n",
      "(85, 'activation_120')\n",
      "(86, 'mixed2')\n",
      "(87, 'conv2d_122')\n",
      "(88, 'batch_normalization_122')\n",
      "(89, 'activation_122')\n",
      "(90, 'conv2d_123')\n",
      "(91, 'batch_normalization_123')\n",
      "(92, 'activation_123')\n",
      "(93, 'conv2d_121')\n",
      "(94, 'conv2d_124')\n",
      "(95, 'batch_normalization_121')\n",
      "(96, 'batch_normalization_124')\n",
      "(97, 'activation_121')\n",
      "(98, 'activation_124')\n",
      "(99, 'max_pooling2d_7')\n",
      "(100, 'mixed3')\n",
      "(101, 'conv2d_129')\n",
      "(102, 'batch_normalization_129')\n",
      "(103, 'activation_129')\n",
      "(104, 'conv2d_130')\n",
      "(105, 'batch_normalization_130')\n",
      "(106, 'activation_130')\n",
      "(107, 'conv2d_126')\n",
      "(108, 'conv2d_131')\n",
      "(109, 'batch_normalization_126')\n",
      "(110, 'batch_normalization_131')\n",
      "(111, 'activation_126')\n",
      "(112, 'activation_131')\n",
      "(113, 'conv2d_127')\n",
      "(114, 'conv2d_132')\n",
      "(115, 'batch_normalization_127')\n",
      "(116, 'batch_normalization_132')\n",
      "(117, 'activation_127')\n",
      "(118, 'activation_132')\n",
      "(119, 'average_pooling2d_13')\n",
      "(120, 'conv2d_125')\n",
      "(121, 'conv2d_128')\n",
      "(122, 'conv2d_133')\n",
      "(123, 'conv2d_134')\n",
      "(124, 'batch_normalization_125')\n",
      "(125, 'batch_normalization_128')\n",
      "(126, 'batch_normalization_133')\n",
      "(127, 'batch_normalization_134')\n",
      "(128, 'activation_125')\n",
      "(129, 'activation_128')\n",
      "(130, 'activation_133')\n",
      "(131, 'activation_134')\n",
      "(132, 'mixed4')\n",
      "(133, 'conv2d_139')\n",
      "(134, 'batch_normalization_139')\n",
      "(135, 'activation_139')\n",
      "(136, 'conv2d_140')\n",
      "(137, 'batch_normalization_140')\n",
      "(138, 'activation_140')\n",
      "(139, 'conv2d_136')\n",
      "(140, 'conv2d_141')\n",
      "(141, 'batch_normalization_136')\n",
      "(142, 'batch_normalization_141')\n",
      "(143, 'activation_136')\n",
      "(144, 'activation_141')\n",
      "(145, 'conv2d_137')\n",
      "(146, 'conv2d_142')\n",
      "(147, 'batch_normalization_137')\n",
      "(148, 'batch_normalization_142')\n",
      "(149, 'activation_137')\n",
      "(150, 'activation_142')\n",
      "(151, 'average_pooling2d_14')\n",
      "(152, 'conv2d_135')\n",
      "(153, 'conv2d_138')\n",
      "(154, 'conv2d_143')\n",
      "(155, 'conv2d_144')\n",
      "(156, 'batch_normalization_135')\n",
      "(157, 'batch_normalization_138')\n",
      "(158, 'batch_normalization_143')\n",
      "(159, 'batch_normalization_144')\n",
      "(160, 'activation_135')\n",
      "(161, 'activation_138')\n",
      "(162, 'activation_143')\n",
      "(163, 'activation_144')\n",
      "(164, 'mixed5')\n",
      "(165, 'conv2d_149')\n",
      "(166, 'batch_normalization_149')\n",
      "(167, 'activation_149')\n",
      "(168, 'conv2d_150')\n",
      "(169, 'batch_normalization_150')\n",
      "(170, 'activation_150')\n",
      "(171, 'conv2d_146')\n",
      "(172, 'conv2d_151')\n",
      "(173, 'batch_normalization_146')\n",
      "(174, 'batch_normalization_151')\n",
      "(175, 'activation_146')\n",
      "(176, 'activation_151')\n",
      "(177, 'conv2d_147')\n",
      "(178, 'conv2d_152')\n",
      "(179, 'batch_normalization_147')\n",
      "(180, 'batch_normalization_152')\n",
      "(181, 'activation_147')\n",
      "(182, 'activation_152')\n",
      "(183, 'average_pooling2d_15')\n",
      "(184, 'conv2d_145')\n",
      "(185, 'conv2d_148')\n",
      "(186, 'conv2d_153')\n",
      "(187, 'conv2d_154')\n",
      "(188, 'batch_normalization_145')\n",
      "(189, 'batch_normalization_148')\n",
      "(190, 'batch_normalization_153')\n",
      "(191, 'batch_normalization_154')\n",
      "(192, 'activation_145')\n",
      "(193, 'activation_148')\n",
      "(194, 'activation_153')\n",
      "(195, 'activation_154')\n",
      "(196, 'mixed6')\n",
      "(197, 'conv2d_159')\n",
      "(198, 'batch_normalization_159')\n",
      "(199, 'activation_159')\n",
      "(200, 'conv2d_160')\n",
      "(201, 'batch_normalization_160')\n",
      "(202, 'activation_160')\n",
      "(203, 'conv2d_156')\n",
      "(204, 'conv2d_161')\n",
      "(205, 'batch_normalization_156')\n",
      "(206, 'batch_normalization_161')\n",
      "(207, 'activation_156')\n",
      "(208, 'activation_161')\n",
      "(209, 'conv2d_157')\n",
      "(210, 'conv2d_162')\n",
      "(211, 'batch_normalization_157')\n",
      "(212, 'batch_normalization_162')\n",
      "(213, 'activation_157')\n",
      "(214, 'activation_162')\n",
      "(215, 'average_pooling2d_16')\n",
      "(216, 'conv2d_155')\n",
      "(217, 'conv2d_158')\n",
      "(218, 'conv2d_163')\n",
      "(219, 'conv2d_164')\n",
      "(220, 'batch_normalization_155')\n",
      "(221, 'batch_normalization_158')\n",
      "(222, 'batch_normalization_163')\n",
      "(223, 'batch_normalization_164')\n",
      "(224, 'activation_155')\n",
      "(225, 'activation_158')\n",
      "(226, 'activation_163')\n",
      "(227, 'activation_164')\n",
      "(228, 'mixed7')\n",
      "(229, 'conv2d_167')\n",
      "(230, 'batch_normalization_167')\n",
      "(231, 'activation_167')\n",
      "(232, 'conv2d_168')\n",
      "(233, 'batch_normalization_168')\n",
      "(234, 'activation_168')\n",
      "(235, 'conv2d_165')\n",
      "(236, 'conv2d_169')\n",
      "(237, 'batch_normalization_165')\n",
      "(238, 'batch_normalization_169')\n",
      "(239, 'activation_165')\n",
      "(240, 'activation_169')\n",
      "(241, 'conv2d_166')\n",
      "(242, 'conv2d_170')\n",
      "(243, 'batch_normalization_166')\n",
      "(244, 'batch_normalization_170')\n",
      "(245, 'activation_166')\n",
      "(246, 'activation_170')\n",
      "(247, 'max_pooling2d_8')\n",
      "(248, 'mixed8')\n",
      "(249, 'conv2d_175')\n",
      "(250, 'batch_normalization_175')\n",
      "(251, 'activation_175')\n",
      "(252, 'conv2d_172')\n",
      "(253, 'conv2d_176')\n",
      "(254, 'batch_normalization_172')\n",
      "(255, 'batch_normalization_176')\n",
      "(256, 'activation_172')\n",
      "(257, 'activation_176')\n",
      "(258, 'conv2d_173')\n",
      "(259, 'conv2d_174')\n",
      "(260, 'conv2d_177')\n",
      "(261, 'conv2d_178')\n",
      "(262, 'average_pooling2d_17')\n",
      "(263, 'conv2d_171')\n",
      "(264, 'batch_normalization_173')\n",
      "(265, 'batch_normalization_174')\n",
      "(266, 'batch_normalization_177')\n",
      "(267, 'batch_normalization_178')\n",
      "(268, 'conv2d_179')\n",
      "(269, 'batch_normalization_171')\n",
      "(270, 'activation_173')\n",
      "(271, 'activation_174')\n",
      "(272, 'activation_177')\n",
      "(273, 'activation_178')\n",
      "(274, 'batch_normalization_179')\n",
      "(275, 'activation_171')\n",
      "(276, 'mixed9_0')\n",
      "(277, 'concatenate_3')\n",
      "(278, 'activation_179')\n",
      "(279, 'mixed9')\n",
      "(280, 'conv2d_184')\n",
      "(281, 'batch_normalization_184')\n",
      "(282, 'activation_184')\n",
      "(283, 'conv2d_181')\n",
      "(284, 'conv2d_185')\n",
      "(285, 'batch_normalization_181')\n",
      "(286, 'batch_normalization_185')\n",
      "(287, 'activation_181')\n",
      "(288, 'activation_185')\n",
      "(289, 'conv2d_182')\n",
      "(290, 'conv2d_183')\n",
      "(291, 'conv2d_186')\n",
      "(292, 'conv2d_187')\n",
      "(293, 'average_pooling2d_18')\n",
      "(294, 'conv2d_180')\n",
      "(295, 'batch_normalization_182')\n",
      "(296, 'batch_normalization_183')\n",
      "(297, 'batch_normalization_186')\n",
      "(298, 'batch_normalization_187')\n",
      "(299, 'conv2d_188')\n",
      "(300, 'batch_normalization_180')\n",
      "(301, 'activation_182')\n",
      "(302, 'activation_183')\n",
      "(303, 'activation_186')\n",
      "(304, 'activation_187')\n",
      "(305, 'batch_normalization_188')\n",
      "(306, 'activation_180')\n",
      "(307, 'mixed9_1')\n",
      "(308, 'concatenate_4')\n",
      "(309, 'activation_188')\n",
      "(310, 'mixed10')\n",
      "(311, 'global_average_pooling2d_2')\n",
      "(312, 'dense_2')\n"
     ]
    }
   ],
   "source": [
    "for i, layer in enumerate(model.layers):\n",
    "         print(i, layer.name)"
   ]
  },
  {
   "cell_type": "code",
   "execution_count": 23,
   "metadata": {
    "collapsed": true
   },
   "outputs": [],
   "source": [
    "for layer in model.layers[:165]:\n",
    "        layer.trainable = False\n",
    "for layer in model.layers[165:]:\n",
    "        layer.trainable = True"
   ]
  },
  {
   "cell_type": "code",
   "execution_count": 24,
   "metadata": {
    "collapsed": true
   },
   "outputs": [],
   "source": [
    "model.compile('adam', 'categorical_crossentropy', ['accuracy'])"
   ]
  },
  {
   "cell_type": "code",
   "execution_count": 25,
   "metadata": {},
   "outputs": [
    {
     "name": "stdout",
     "output_type": "stream",
     "text": [
      "Epoch 1/2\n",
      "701/700 [==============================] - 3355s 5s/step - loss: 0.7506 - acc: 0.8332\n",
      "Epoch 2/2\n",
      "701/700 [==============================] - 3353s 5s/step - loss: 0.1240 - acc: 0.9649\n"
     ]
    },
    {
     "data": {
      "text/plain": [
       "<keras.callbacks.History at 0x7fcaf9b83310>"
      ]
     },
     "execution_count": 25,
     "metadata": {},
     "output_type": "execute_result"
    }
   ],
   "source": [
    "model.fit_generator(train_generator, steps_per_epoch=22424/32, epochs = 2, shuffle=True)"
   ]
  },
  {
   "cell_type": "code",
   "execution_count": null,
   "metadata": {
    "collapsed": true
   },
   "outputs": [],
   "source": []
  }
 ],
 "metadata": {
  "kernelspec": {
   "display_name": "Python 2",
   "language": "python",
   "name": "python2"
  },
  "language_info": {
   "codemirror_mode": {
    "name": "ipython",
    "version": 2
   },
   "file_extension": ".py",
   "mimetype": "text/x-python",
   "name": "python",
   "nbconvert_exporter": "python",
   "pygments_lexer": "ipython2",
   "version": "2.7.12"
  }
 },
 "nbformat": 4,
 "nbformat_minor": 2
}
