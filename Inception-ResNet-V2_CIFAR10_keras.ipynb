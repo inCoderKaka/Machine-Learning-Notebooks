{
 "cells": [
  {
   "cell_type": "markdown",
   "metadata": {},
   "source": [
    "# Inception-ResNet-V2 keras implementation using CIFAR10"
   ]
  },
  {
   "cell_type": "code",
   "execution_count": 1,
   "metadata": {},
   "outputs": [
    {
     "name": "stderr",
     "output_type": "stream",
     "text": [
      "Using TensorFlow backend.\n"
     ]
    }
   ],
   "source": [
    "import numpy as np\n",
    "import keras\n",
    "from keras import layers\n",
    "import keras.backend as K\n",
    "from keras.datasets import cifar10\n",
    "from keras.utils import np_utils\n",
    "from keras.callbacks import CSVLogger, EarlyStopping\n",
    "from keras.initializers import glorot_uniform\n",
    "import cv2\n",
    "\n",
    "K.set_image_data_format('channels_last')\n",
    "K.set_learning_phase(1)"
   ]
  },
  {
   "cell_type": "code",
   "execution_count": 31,
   "metadata": {},
   "outputs": [],
   "source": [
    "(X_train, Y_train), (X_test, Y_test) = cifar10.load_data()\n",
    "\n",
    "X_train = X_train.astype('float32')\n",
    "X_test = X_test.astype('float32')\n",
    "\n",
    "X_train = np.array([cv2.resize(img, (128,128)) for img in X_train[:10000,:,:,:]])\n",
    "X_test = np.array([cv2.resize(img, (128,128)) for img in X_test[:1000,:,:,:]])\n",
    "\n",
    "n_classes = 10\n",
    "\n",
    "Y_train = np_utils.to_categorical(Y_train[:10000,:], n_classes)\n",
    "Y_test = np_utils.to_categorical(Y_test[:1000,:], n_classes)\n",
    "\n",
    "mean_image = np.mean(X_train, axis=0)\n",
    "X_train -= mean_image\n",
    "X_test -= mean_image\n",
    "X_train /= 128.\n",
    "X_test /= 128."
   ]
  },
  {
   "cell_type": "code",
   "execution_count": 18,
   "metadata": {},
   "outputs": [],
   "source": [
    "def inception_resnet_A(input_x):\n",
    "    conv1_1x1 = layers.Conv2D(32, kernel_size=(1,1), activation='relu', padding=\"same\", strides=(1,1), kernel_initializer=glorot_uniform())(input_x)\n",
    "    \n",
    "    conv2_1x1 = layers.Conv2D(32, kernel_size=(1,1), activation='relu', padding=\"same\", strides=(1,1), kernel_initializer=glorot_uniform())(input_x)\n",
    "    conv2_3x3 = layers.Conv2D(32, kernel_size=(3,3), activation='relu', padding=\"same\", strides=(1,1), kernel_initializer=glorot_uniform())(conv2_1x1)\n",
    "    \n",
    "    conv3_1x1 = layers.Conv2D(32, kernel_size=(1,1), activation='relu', padding=\"same\", strides=(1,1), kernel_initializer=glorot_uniform())(input_x)\n",
    "    conv3_3x3 = layers.Conv2D(48, kernel_size=(3,3), activation='relu', padding=\"same\", strides=(1,1), kernel_initializer=glorot_uniform())(conv3_1x1)\n",
    "    conv3_3x3 = layers.Conv2D(64, kernel_size=(3,3), activation='relu', padding=\"same\", strides=(1,1), kernel_initializer=glorot_uniform())(conv3_1x1)\n",
    "    \n",
    "    merged = layers.Concatenate(axis = -1)([conv1_1x1, conv2_3x3, conv3_3x3])\n",
    "    \n",
    "    output1 = layers.Conv2D(384, kernel_size=(1,1), activation='relu', padding=\"same\", strides=(1,1), kernel_initializer=glorot_uniform())(merged)\n",
    "    \n",
    "    output = layers.Add()([input_x, output1])\n",
    "    \n",
    "    return output"
   ]
  },
  {
   "cell_type": "code",
   "execution_count": 19,
   "metadata": {},
   "outputs": [],
   "source": [
    "def inception_resnet_B(input_x):\n",
    "    conv1_1x1 = layers.Conv2D(192, kernel_size=(1,1), activation='relu', padding=\"same\", strides=(1,1), kernel_initializer=glorot_uniform())(input_x)\n",
    "    \n",
    "    conv2_1x1 = layers.Conv2D(128, kernel_size=(1,1), activation='relu', padding=\"same\", strides=(1,1), kernel_initializer=glorot_uniform())(input_x)\n",
    "    conv2_1x7 = layers.Conv2D(160, kernel_size=(1,7), activation='relu', padding=\"same\", strides=(1,1), kernel_initializer=glorot_uniform())(conv2_1x1)\n",
    "    conv2_7x1 = layers.Conv2D(192, kernel_size=(7,1), activation='relu', padding=\"same\", strides=(1,1), kernel_initializer=glorot_uniform())(conv2_1x7)\n",
    "    \n",
    "    merged = layers.Concatenate(axis=-1)([conv1_1x1, conv2_7x1])\n",
    "    \n",
    "    output1 = layers.Conv2D(1152, kernel_size=(1,1), activation='relu', padding=\"same\", strides=(1,1), kernel_initializer=glorot_uniform())(merged)\n",
    "    \n",
    "    output = layers.Add()([input_x, output1])\n",
    "    \n",
    "    return output\n",
    "    "
   ]
  },
  {
   "cell_type": "code",
   "execution_count": 20,
   "metadata": {},
   "outputs": [],
   "source": [
    "def inception_resnet_C(input_x):\n",
    "    conv1_1x1 = layers.Conv2D(192, kernel_size=(1,1), activation='relu', padding=\"same\", strides=(1,1), kernel_initializer=glorot_uniform())(input_x)\n",
    "    \n",
    "    conv2_1x1 = layers.Conv2D(192, kernel_size=(1,1), activation='relu', padding=\"same\", strides=(1,1), kernel_initializer=glorot_uniform())(input_x)\n",
    "    conv2_1x3 = layers.Conv2D(224, kernel_size=(1,3), activation='relu', padding=\"same\", strides=(1,1), kernel_initializer=glorot_uniform())(conv2_1x1)\n",
    "    conv2_3x1 = layers.Conv2D(256, kernel_size=(3,1), activation='relu', padding=\"same\", strides=(1,1), kernel_initializer=glorot_uniform())(conv2_1x3)\n",
    "    \n",
    "    merged = layers.Concatenate(axis=-1)([conv1_1x1, conv2_3x1])\n",
    "    \n",
    "    output1 = layers.Conv2D(2144, kernel_size=(1,1), activation='relu', padding=\"same\", strides=(1,1), kernel_initializer=glorot_uniform())(merged)\n",
    "    \n",
    "    output = layers.Add()([input_x, output1])\n",
    "    \n",
    "    return output"
   ]
  },
  {
   "cell_type": "code",
   "execution_count": 21,
   "metadata": {},
   "outputs": [],
   "source": [
    "def reduction_A(input_x):\n",
    "    max_pool1_3x3 = layers.MaxPool2D(pool_size=(3,3), strides=(2,2), padding=\"valid\")(input_x)\n",
    "    \n",
    "    conv2_3x3 = layers.Conv2D(384, kernel_size=(3,3), activation=\"relu\", strides=(2,2), padding=\"valid\", kernel_initializer=glorot_uniform())(input_x)\n",
    "    \n",
    "    conv3_1x1 = layers.Conv2D(256, kernel_size=(1,1), activation=\"relu\", strides=(1,1), padding=\"same\", kernel_initializer=glorot_uniform())(input_x)\n",
    "    conv3_3x3_a = layers.Conv2D(256, kernel_size=(3,3), activation=\"relu\", strides=(1,1), padding=\"same\", kernel_initializer=glorot_uniform())(conv3_1x1)\n",
    "    conv3_3x3_b = layers.Conv2D(384, kernel_size=(3,3), activation=\"relu\", strides=(2,2), padding=\"valid\", kernel_initializer=glorot_uniform())(conv3_3x3_a)\n",
    "    \n",
    "    output= layers.Concatenate(axis=-1)([max_pool1_3x3, conv2_3x3, conv3_3x3_b])\n",
    "\n",
    "    return output\n",
    "    "
   ]
  },
  {
   "cell_type": "code",
   "execution_count": 22,
   "metadata": {},
   "outputs": [],
   "source": [
    "def reduction_B(input_x):\n",
    "    max_pool1_3x3 = layers.MaxPool2D(pool_size=(3,3), strides=(2,2), padding=\"valid\")(input_x)\n",
    "    \n",
    "    conv2_1x1 = layers.Conv2D(256, kernel_size=(1,1), activation=\"relu\", strides=(1,1), padding=\"same\", kernel_initializer=glorot_uniform())(input_x)\n",
    "    conv2_3x3 = layers.Conv2D(384, kernel_size=(3,3), activation=\"relu\", strides=(2,2), padding=\"valid\", kernel_initializer=glorot_uniform())(conv2_1x1)\n",
    "    \n",
    "    conv3_1x1 = layers.Conv2D(256, kernel_size=(1,1), activation=\"relu\", strides=(1,1), padding=\"same\", kernel_initializer=glorot_uniform())(input_x)\n",
    "    conv3_3x3 = layers.Conv2D(288, kernel_size=(3,3), activation=\"relu\", strides=(2,2), padding=\"valid\", kernel_initializer=glorot_uniform())(conv3_1x1)\n",
    "    \n",
    "    conv4_1x1 = layers.Conv2D(256, kernel_size=(1,1), activation=\"relu\", strides=(1,1), padding=\"same\", kernel_initializer=glorot_uniform())(input_x)\n",
    "    conv4_3x3_a = layers.Conv2D(288, kernel_size=(3,3), activation=\"relu\", strides=(1,1), padding=\"same\", kernel_initializer=glorot_uniform())(conv4_1x1)\n",
    "    conv4_3x3_b = layers.Conv2D(320, kernel_size=(3,3), activation=\"relu\", strides=(2,2), padding=\"valid\", kernel_initializer=glorot_uniform())(conv4_3x3_a)\n",
    "    \n",
    "    output= layers.Concatenate(axis=-1)([max_pool1_3x3, conv2_3x3, conv3_3x3, conv4_3x3_b])\n",
    "    \n",
    "    return output\n",
    "    \n",
    "    \n",
    "    \n",
    "    "
   ]
  },
  {
   "cell_type": "code",
   "execution_count": 27,
   "metadata": {},
   "outputs": [],
   "source": [
    "def inception_resnet_v2(input_shape, n_classes):\n",
    "    input_x = layers.Input(input_shape)\n",
    "    \n",
    "    X = input_x\n",
    "    \n",
    "    X = layers.Conv2D(32, kernel_size=(3,3), activation=\"relu\", strides=(2,2), padding=\"valid\", kernel_initializer=glorot_uniform())(X)\n",
    "    X = layers.Conv2D(32, kernel_size=(3,3), activation=\"relu\", strides=(1,1), padding=\"valid\", kernel_initializer=glorot_uniform())(X)\n",
    "    X = layers.Conv2D(64, kernel_size=(3,3), activation=\"relu\", strides=(1,1), padding=\"same\", kernel_initializer=glorot_uniform())(X)\n",
    "    \n",
    "    X1 = layers.MaxPool2D(pool_size=(3,3), strides=(2,2), padding=\"valid\")(X)\n",
    "    X2 = layers.Conv2D(96, kernel_size=(3,3), activation=\"relu\", strides=(2,2), padding=\"valid\", kernel_initializer=glorot_uniform())(X)\n",
    "    \n",
    "    X = layers.Concatenate(axis=-1)([X1, X2])\n",
    "    \n",
    "    X1 = layers.Conv2D(64, kernel_size=(1,1), activation=\"relu\", strides=(1,1), padding=\"same\", kernel_initializer=glorot_uniform())(X)\n",
    "    X1 = layers.Conv2D(96, kernel_size=(3,3), activation=\"relu\", strides=(1,1), padding=\"valid\", kernel_initializer=glorot_uniform())(X1)\n",
    "    X2 = layers.Conv2D(64, kernel_size=(1,1), activation=\"relu\", strides=(1,1), padding=\"same\", kernel_initializer=glorot_uniform())(X)\n",
    "    X2 = layers.Conv2D(64, kernel_size=(7,1), activation=\"relu\", strides=(1,1), padding=\"same\", kernel_initializer=glorot_uniform())(X2)\n",
    "    X2 = layers.Conv2D(64, kernel_size=(1,7), activation=\"relu\", strides=(1,1), padding=\"same\", kernel_initializer=glorot_uniform())(X2)\n",
    "    X2 = layers.Conv2D(96, kernel_size=(3,3), activation=\"relu\", strides=(1,1), padding=\"valid\", kernel_initializer=glorot_uniform())(X2)\n",
    "    \n",
    "    X = layers.Concatenate(axis=-1)([X1, X2])\n",
    "    \n",
    "    X1 = layers.Conv2D(192, kernel_size=(3,3), activation=\"relu\", strides=(2,2), padding=\"valid\", kernel_initializer=glorot_uniform())(X)\n",
    "    X2 = layers.MaxPool2D(pool_size=(3,3), strides=(2,2), padding=\"valid\")(X)\n",
    "    \n",
    "    X = layers.Concatenate(axis=-1)([X1, X2])\n",
    "    \n",
    "    #print(X._keras_shape)\n",
    "    \n",
    "    for _ in range(5):\n",
    "        X = inception_resnet_A(X)\n",
    "    \n",
    "    #print(X._keras_shape)\n",
    "    \n",
    "    X = reduction_A(X)\n",
    "    \n",
    "    #print(X._keras_shape)\n",
    "    \n",
    "    for _ in range(10):\n",
    "        X = inception_resnet_B(X)\n",
    "    \n",
    "    #print(X._keras_shape)\n",
    "    \n",
    "    X = reduction_B(X)\n",
    "    \n",
    "    #print(X._keras_shape)\n",
    "    \n",
    "    X = inception_resnet_C(X)\n",
    "    \n",
    "    #print(X._keras_shape)\n",
    "    \n",
    "    #pool_size=(8,8) in orignal implementation\n",
    "    X = layers.AveragePooling2D(pool_size=(2,2), strides=(1,1), padding=\"valid\")(X)\n",
    "    \n",
    "    X = layers.Flatten()(X)\n",
    "    \n",
    "    X = layers.Dropout(0.2)(X)\n",
    "    \n",
    "    X = layers.Dense(n_classes, activation=\"softmax\")(X)\n",
    "    \n",
    "    model = keras.Model(inputs=input_x, outputs=X)\n",
    "    \n",
    "    return model\n",
    "\n",
    "\n",
    "    \n",
    "    "
   ]
  },
  {
   "cell_type": "code",
   "execution_count": 32,
   "metadata": {},
   "outputs": [],
   "source": [
    "inception_resnet_v2_model = inception_resnet_v2(input_shape=(128,128,3),n_classes=10)"
   ]
  },
  {
   "cell_type": "code",
   "execution_count": 33,
   "metadata": {},
   "outputs": [],
   "source": [
    "inception_resnet_v2_model.compile(optimizer='adam', loss='categorical_crossentropy', metrics=['accuracy'])"
   ]
  },
  {
   "cell_type": "code",
   "execution_count": 34,
   "metadata": {},
   "outputs": [
    {
     "name": "stdout",
     "output_type": "stream",
     "text": [
      "Epoch 1/1\n",
      "10000/10000 [==============================] - 1083s 108ms/step - loss: 14.3848 - acc: 0.0975\n"
     ]
    },
    {
     "data": {
      "text/plain": [
       "<keras.callbacks.History at 0x7f5f48dc18d0>"
      ]
     },
     "execution_count": 34,
     "metadata": {},
     "output_type": "execute_result"
    }
   ],
   "source": [
    "inception_resnet_v2_model.fit(X_train, Y_train, epochs = 1, batch_size = 128)"
   ]
  },
  {
   "cell_type": "code",
   "execution_count": null,
   "metadata": {},
   "outputs": [],
   "source": []
  }
 ],
 "metadata": {
  "kernelspec": {
   "display_name": "Python 2",
   "language": "python",
   "name": "python2"
  },
  "language_info": {
   "codemirror_mode": {
    "name": "ipython",
    "version": 2
   },
   "file_extension": ".py",
   "mimetype": "text/x-python",
   "name": "python",
   "nbconvert_exporter": "python",
   "pygments_lexer": "ipython2",
   "version": "2.7.12"
  }
 },
 "nbformat": 4,
 "nbformat_minor": 2
}
