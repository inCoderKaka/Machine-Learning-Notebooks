{
 "cells": [
  {
   "cell_type": "markdown",
   "metadata": {},
   "source": [
    "# AlexNET implementation(with some changes) using tensorflow on catsvsdogs dataset. "
   ]
  },
  {
   "cell_type": "code",
   "execution_count": 1,
   "metadata": {
    "collapsed": true
   },
   "outputs": [],
   "source": [
    "import tensorflow as tf\n",
    "import cv2\n",
    "import pickle as pk\n",
    "import os\n",
    "from tqdm import tqdm\n",
    "from random import shuffle\n",
    "import numpy as np\n",
    "import matplotlib.pyplot as plt"
   ]
  },
  {
   "cell_type": "markdown",
   "metadata": {},
   "source": [
    "Download data from [http://files.fast.ai/data/dogscats.zip](http://files.fast.ai/data/dogscats.zip)"
   ]
  },
  {
   "cell_type": "code",
   "execution_count": 2,
   "metadata": {
    "collapsed": true
   },
   "outputs": [],
   "source": [
    "train_path = \"./dogscats/train/\"\n",
    "validation_path = \"./dogscats/valid/\""
   ]
  },
  {
   "cell_type": "code",
   "execution_count": 3,
   "metadata": {},
   "outputs": [
    {
     "name": "stderr",
     "output_type": "stream",
     "text": [
      "100%|██████████| 11500/11500 [00:22<00:00, 511.63it/s]\n",
      "100%|██████████| 11500/11500 [00:22<00:00, 500.99it/s]\n",
      "100%|██████████| 1000/1000 [00:01<00:00, 521.18it/s]\n",
      "100%|██████████| 1000/1000 [00:01<00:00, 502.64it/s]\n"
     ]
    },
    {
     "name": "stdout",
     "output_type": "stream",
     "text": [
      "(46000, 227, 227, 3)\n",
      "(46000, 2)\n",
      "(2000, 227, 227, 3)\n",
      "(2000, 2)\n"
     ]
    }
   ],
   "source": [
    "training_data = []\n",
    "validation_data = []\n",
    "\n",
    "def insert_data(data_type, dir_path, category):\n",
    "    for img in tqdm(os.listdir(dir_path+category)):\n",
    "        path = os.path.join(dir_path+category,img)\n",
    "        image = cv2.imread(path)\n",
    "        image = cv2.resize(image, (227, 227))\n",
    "        label = [1,0] if category==\"cats\" else [0,1]\n",
    "        data_type.append([np.array(image), np.array(label)])\n",
    "        image = cv2.flip(image,1)\n",
    "        data_type.append([np.array(image), np.array(label)])\n",
    "\n",
    "insert_data(training_data, train_path, \"cats\")\n",
    "insert_data(training_data, train_path, \"dogs\")\n",
    "insert_data(validation_data, validation_path, \"cats\")\n",
    "insert_data(validation_data, validation_path, \"dogs\")\n",
    "\n",
    "shuffle(training_data)\n",
    "shuffle(validation_data)\n",
    "\n",
    "\n",
    "train_x = []\n",
    "train_y = []\n",
    "val_x = []\n",
    "val_y = []\n",
    "\n",
    "for i in range(len(training_data)):\n",
    "    train_x.append(training_data[i][0])\n",
    "    train_y.append(training_data[i][1])\n",
    "    \n",
    "\n",
    "for i in range(len(validation_data)/2):\n",
    "    val_x.append(validation_data[i][0])\n",
    "    val_y.append(validation_data[i][1])\n",
    "    \n",
    "train_x = np.array(train_x)\n",
    "train_y = np.array(train_y)\n",
    "val_x = np.array(val_x)\n",
    "val_y = np.array(val_y)\n",
    "\n",
    "n_train = train_x.shape[0]\n",
    "n_val = val_x.shape[0]\n",
    "\n",
    "print train_x.shape \n",
    "print train_y.shape \n",
    "print val_x.shape\n",
    "print val_y.shape"
   ]
  },
  {
   "cell_type": "code",
   "execution_count": 4,
   "metadata": {
    "collapsed": true
   },
   "outputs": [],
   "source": [
    "def forward_pass(x, keep_rate):\n",
    "    init = tf.contrib.layers.xavier_initializer(seed=0)\n",
    "    conv1_w = tf.get_variable(\"conv1_w\", [11,11,3,96], initializer=init)\n",
    "    conv2_w = tf.get_variable(\"conv2_w\", [5,5,96,256], initializer=init)\n",
    "    conv3_w = tf.get_variable(\"conv3_w\", [3,3,256,384], initializer=init)\n",
    "    conv4_w = tf.get_variable(\"conv4_w\", [3,3,384,384], initializer=init)\n",
    "    conv5_w = tf.get_variable(\"conv5_w\", [3,3,384,256], initializer=init)\n",
    "    fc6_w = tf.get_variable(\"fc6_w\", [9216,4096], initializer=init)\n",
    "    fc7_w = tf.get_variable(\"fc7_w\", [4096,4096], initializer=init)\n",
    "    out_w = tf.get_variable(\"out_w\", [4096,n_classes], initializer=init)\n",
    "    \n",
    "    \n",
    "    conv1 = tf.nn.relu(tf.nn.conv2d(x,conv1_w,strides=[1,4,4,1], padding=\"VALID\"))\n",
    "    conv1 = tf.nn.max_pool(conv1, ksize=[1,3,3,1], strides=[1,2,2,1], padding=\"VALID\")\n",
    "    \n",
    "    conv2 = tf.nn.relu(tf.nn.conv2d(conv1,conv2_w,strides=[1,1,1,1], padding=\"SAME\"))\n",
    "    conv2 = tf.nn.max_pool(conv2, ksize=[1,3,3,1], strides=[1,2,2,1], padding=\"VALID\")\n",
    "    \n",
    "    conv3 = tf.nn.relu(tf.nn.conv2d(conv2,conv3_w,strides=[1,1,1,1], padding=\"SAME\"))\n",
    "    \n",
    "    conv4 = tf.nn.relu(tf.nn.conv2d(conv3,conv4_w,strides=[1,1,1,1], padding=\"SAME\"))\n",
    "    \n",
    "    conv5 = tf.nn.relu(tf.nn.conv2d(conv4,conv5_w,strides=[1,1,1,1], padding=\"SAME\"))\n",
    "    conv5 = tf.nn.max_pool(conv5, ksize=[1,3,3,1], strides=[1,2,2,1], padding=\"VALID\")\n",
    "    conv5 = tf.contrib.layers.flatten(conv5)\n",
    "    \n",
    "    fc6 = tf.contrib.layers.fully_connected(conv5, 4096, activation_fn=tf.nn.relu)\n",
    "    fc6 = tf.nn.dropout(fc6, keep_rate)\n",
    "    \n",
    "    fc7 = tf.contrib.layers.fully_connected(fc6, 4096, activation_fn=tf.nn.relu)\n",
    "    fc7 = tf.nn.dropout(fc7, keep_rate)\n",
    "    \n",
    "    out = tf.contrib.layers.fully_connected(fc6, n_classes, activation_fn=None)\n",
    "    \n",
    "    return out"
   ]
  },
  {
   "cell_type": "code",
   "execution_count": 5,
   "metadata": {},
   "outputs": [
    {
     "name": "stdout",
     "output_type": "stream",
     "text": [
      "Epoch 1 completed. Loss : 1844.46574897 . Accuracy: 0.6205\n",
      "Epoch 2 completed. Loss : 57.934242785 . Accuracy: 0.681\n",
      "Epoch 3 completed. Loss : 58.2142119408 . Accuracy: 0.6715\n",
      "Epoch 4 completed. Loss : 52.4944075346 . Accuracy: 0.7325\n",
      "Epoch 5 completed. Loss : 48.230666697 . Accuracy: 0.7605\n",
      "Epoch 6 completed. Loss : 43.7977248132 . Accuracy: 0.781\n",
      "Epoch 7 completed. Loss : 39.8038985729 . Accuracy: 0.795\n",
      "Epoch 8 completed. Loss : 36.748244971 . Accuracy: 0.7845\n",
      "Epoch 9 completed. Loss : 33.9295793176 . Accuracy: 0.8095\n",
      "Epoch 10 completed. Loss : 31.8555585742 . Accuracy: 0.7865\n",
      "Epoch 11 completed. Loss : 30.6761318445 . Accuracy: 0.8135\n",
      "Epoch 12 completed. Loss : 26.9845447838 . Accuracy: 0.8345\n",
      "Epoch 13 completed. Loss : 25.17966941 . Accuracy: 0.827\n",
      "Epoch 14 completed. Loss : 23.9187817872 . Accuracy: 0.836\n",
      "Epoch 15 completed. Loss : 22.0361822098 . Accuracy: 0.837\n",
      "Epoch 16 completed. Loss : 22.8422606885 . Accuracy: 0.7875\n",
      "Epoch 17 completed. Loss : 20.7857697904 . Accuracy: 0.845\n",
      "Epoch 18 completed. Loss : 16.9812445939 . Accuracy: 0.843\n",
      "Epoch 19 completed. Loss : 15.5400820076 . Accuracy: 0.8455\n",
      "Epoch 20 completed. Loss : 15.2888254747 . Accuracy: 0.8365\n"
     ]
    }
   ],
   "source": [
    "tf.reset_default_graph()\n",
    "training_loss=[]\n",
    "validation_acc=[]\n",
    "epoch=[]\n",
    "\n",
    "with tf.Session() as sess:\n",
    "    np.random.seed(1)\n",
    "    n_classes = 2\n",
    "    batch_size = 512\n",
    "    n_epochs = 20\n",
    "    x = tf.placeholder('float', [None, 227, 227, 3])\n",
    "    y = tf.placeholder('float', [None, n_classes])\n",
    "    keep_rate = 0.8\n",
    "    keep_prob = tf.placeholder(tf.float32)\n",
    "    out = forward_pass(x, keep_rate)\n",
    "    cost = tf.reduce_mean( tf.nn.softmax_cross_entropy_with_logits(logits=out,labels=y) )\n",
    "    optimizer = tf.train.AdamOptimizer(learning_rate=0.0005).minimize(cost)\n",
    "    init = tf.global_variables_initializer()\n",
    "    sess.run(init)\n",
    "    for e in range(n_epochs):\n",
    "        loss = 0\n",
    "        n_batch = 0\n",
    "        if(n_train%batch_size==0):\n",
    "            n_batch = n_train/batch_size\n",
    "        else:\n",
    "            n_batch = n_train/batch_size + 1\n",
    "        for i in range(n_batch):\n",
    "            sub_train_x = train_x[i*batch_size:min([(i+1)*batch_size-1, n_train-1]), : , : , :]\n",
    "            sub_train_y = train_y[i*batch_size:min([(i+1)*batch_size-1, n_train-1]), : ]\n",
    "            _, a = sess.run([optimizer,cost], feed_dict = {x: sub_train_x, y: sub_train_y})\n",
    "            loss = loss + a\n",
    "        correct = tf.equal(tf.argmax(out, 1), tf.argmax(y, 1))\n",
    "        accuracy = tf.reduce_mean(tf.cast(correct, 'float')).eval({x:val_x, y:val_y})\n",
    "        print \"Epoch\", e+1,\"completed. Loss :\", loss, '. Accuracy:',accuracy\n",
    "        training_loss.append(loss)\n",
    "        validation_acc.append(accuracy)\n",
    "        epoch.append(e+1)\n",
    "    "
   ]
  },
  {
   "cell_type": "code",
   "execution_count": 9,
   "metadata": {},
   "outputs": [
    {
     "data": {
      "text/plain": [
       "<matplotlib.text.Text at 0x7f095afef150>"
      ]
     },
     "execution_count": 9,
     "metadata": {},
     "output_type": "execute_result"
    },
    {
     "data": {
      "image/png": "[encoded data removed]",
      "text/plain": [
       "<matplotlib.figure.Figure at 0x7f0b78797d50>"
      ]
     },
     "metadata": {},
     "output_type": "display_data"
    }
   ],
   "source": [
    "import matplotlib.pyplot as plt\n",
    "%matplotlib inline\n",
    "\n",
    "plt.plot(epoch, validation_acc)\n",
    "plt.xlabel(\"Epochs\")\n",
    "plt.ylabel(\"Accuracy\")\n",
    "\n"
   ]
  },
  {
   "cell_type": "code",
   "execution_count": 11,
   "metadata": {},
   "outputs": [
    {
     "data": {
      "text/plain": [
       "<matplotlib.text.Text at 0x7f09596b2310>"
      ]
     },
     "execution_count": 11,
     "metadata": {},
     "output_type": "execute_result"
    },
    {
     "data": {
      "image/png": "[encoded data removed]",
      "text/plain": [
       "<matplotlib.figure.Figure at 0x7f09596d5450>"
      ]
     },
     "metadata": {},
     "output_type": "display_data"
    }
   ],
   "source": [
    "plt.plot(epoch, training_loss)\n",
    "plt.xlabel(\"Epochs\")\n",
    "plt.ylabel(\"Training Loss\")\n"
   ]
  },
  {
   "cell_type": "code",
   "execution_count": null,
   "metadata": {
    "collapsed": true
   },
   "outputs": [],
   "source": []
  },
  {
   "cell_type": "code",
   "execution_count": null,
   "metadata": {
    "collapsed": true
   },
   "outputs": [],
   "source": []
  }
 ],
 "metadata": {
  "kernelspec": {
   "display_name": "Python 2",
   "language": "python",
   "name": "python2"
  },
  "language_info": {
   "codemirror_mode": {
    "name": "ipython",
    "version": 2
   },
   "file_extension": ".py",
   "mimetype": "text/x-python",
   "name": "python",
   "nbconvert_exporter": "python",
   "pygments_lexer": "ipython2",
   "version": "2.7.12"
  }
 },
 "nbformat": 4,
 "nbformat_minor": 2
}
